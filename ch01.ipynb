{
 "cells": [
  {
   "cell_type": "code",
   "execution_count": 3,
   "metadata": {},
   "outputs": [],
   "source": [
    "import pandas as pd\n",
    "from pandas import Series, DataFrame\n",
    "import numpy as np\n",
    "import math"
   ]
  },
  {
   "cell_type": "markdown",
   "metadata": {},
   "source": [
    "Exercise 1 • Test scores \\\n",
    "Create a series of 10 elements, random integers from 70 to 100, representing scores on a monthly exam. Set the index to be the month names,  starting in September and ending in June. (If these months don’t match the school year in your location, feel free to make them more realistic.) \n",
    "\n",
    "With this series, write code to answer the following questions:\n",
    "\n",
    "What is the student’s average test score for the entire year? \n",
    "\n",
    "What is the student’s average test score during the first half of the year (i.e., the first five months)? \n",
    "\n",
    "What is the student’s average test score during the second half of the year? \n",
    "\n",
    "Did the student improve their performance in the second half? If so, by how much? "
   ]
  },
  {
   "cell_type": "code",
   "execution_count": 5,
   "metadata": {},
   "outputs": [
    {
     "data": {
      "text/plain": [
       "array([96, 89, 85, 78, 79, 71, 72, 70, 75, 95])"
      ]
     },
     "execution_count": 5,
     "metadata": {},
     "output_type": "execute_result"
    }
   ],
   "source": [
    "g = np.random.default_rng(0)\n",
    "a = g.integers(70, 101, 10)\n",
    "a"
   ]
  },
  {
   "cell_type": "code",
   "execution_count": 7,
   "metadata": {},
   "outputs": [
    {
     "data": {
      "text/plain": [
       "Sep    78\n",
       "Oct    95\n",
       "Nov    90\n",
       "Dec    70\n",
       "Jan    82\n",
       "Feb    96\n",
       "Mar    87\n",
       "Apr    71\n",
       "May    93\n",
       "Jun    92\n",
       "dtype: int64"
      ]
     },
     "execution_count": 7,
     "metadata": {},
     "output_type": "execute_result"
    }
   ],
   "source": [
    "s = Series(g.integers(70, 101, 10))\n",
    "s.index = 'Sep Oct Nov Dec Jan Feb Mar Apr May Jun'.split()\n",
    "s"
   ]
  },
  {
   "cell_type": "markdown",
   "metadata": {},
   "source": [
    "using the index argument in the Series"
   ]
  },
  {
   "cell_type": "code",
   "execution_count": 10,
   "metadata": {},
   "outputs": [
    {
     "data": {
      "text/plain": [
       "Sep     93\n",
       "Oct     81\n",
       "Nov     84\n",
       "Dec    100\n",
       "Jan     94\n",
       "Feb    100\n",
       "Mar     81\n",
       "Apr     91\n",
       "May     99\n",
       "Jun     90\n",
       "dtype: int64"
      ]
     },
     "execution_count": 10,
     "metadata": {},
     "output_type": "execute_result"
    }
   ],
   "source": [
    "months = 'Sep Oct Nov Dec Jan Feb Mar Apr May Jun'.split()\n",
    "s = Series(g.integers(70, 101, 10), index=months)\n",
    "s"
   ]
  },
  {
   "cell_type": "markdown",
   "metadata": {},
   "source": [
    "calculate mean using python slicing"
   ]
  },
  {
   "cell_type": "code",
   "execution_count": 11,
   "metadata": {},
   "outputs": [
    {
     "name": "stdout",
     "output_type": "stream",
     "text": [
      "First Half average: 90.4\n",
      "Second Half average: 92.2\n"
     ]
    }
   ],
   "source": [
    "print(f'First Half average: {s[:5].mean()}')\n",
    "print(f'Second Half average: {s[5:].mean()}')"
   ]
  },
  {
   "cell_type": "markdown",
   "metadata": {},
   "source": [
    "or we can use index from in pandas Series \\\n",
    "loc: works on the index we define (string index) \\\n",
    "iloc: works on the default numeric index (0..)"
   ]
  },
  {
   "cell_type": "code",
   "execution_count": 12,
   "metadata": {},
   "outputs": [
    {
     "data": {
      "text/plain": [
       "np.float64(90.4)"
      ]
     },
     "execution_count": 12,
     "metadata": {},
     "output_type": "execute_result"
    }
   ],
   "source": [
    "first_half_avg = s.loc['Sep': 'Jan'].mean()\n",
    "first_half_avg"
   ]
  },
  {
   "cell_type": "markdown",
   "metadata": {},
   "source": [
    "using head and tail \\\n",
    "head: takes an int argument and returns that many elements from the start of series \\\n",
    "tail: the opposite"
   ]
  },
  {
   "cell_type": "code",
   "execution_count": 13,
   "metadata": {},
   "outputs": [
    {
     "name": "stdout",
     "output_type": "stream",
     "text": [
      "90.4\n",
      "92.2\n"
     ]
    }
   ],
   "source": [
    "print(s.head(5).mean())\n",
    "print(s.tail(5).mean())"
   ]
  },
  {
   "cell_type": "markdown",
   "metadata": {},
   "source": [
    "Solution"
   ]
  },
  {
   "cell_type": "code",
   "execution_count": 14,
   "metadata": {},
   "outputs": [
    {
     "name": "stdout",
     "output_type": "stream",
     "text": [
      "Yearly average: 81.0\n",
      "First half average: 85.4\n",
      "Second half average: 76.6\n",
      "Imporvement: -8.800000000000011\n",
      "Highest marks: 96\n",
      "Month having highest marks: Sep\n",
      "Variance: 85.2\n",
      "Standard Deviation: 9.23038460737146\n",
      "Pandas Standard Deviation method: 9.72967967955095\n"
     ]
    }
   ],
   "source": [
    "g = np.random.default_rng(0)\n",
    "months = 'Sep Oct Nov Dec Jan Feb Mar Apr May Jun'.split()\n",
    "s = Series(g.integers(70, 101, 10), index=months)\n",
    "\n",
    "print(f'Yearly average: {s.mean()}')\n",
    "first_half_avg = s['Sep': 'Jan'].mean()\n",
    "second_half_avg = s['Feb': 'Jun'].mean()\n",
    "print(f'First half average: {first_half_avg}')\n",
    "print(f'Second half average: {second_half_avg}')\n",
    "print(f'Imporvement: {second_half_avg - first_half_avg}')\n",
    "print(f'Highest marks: {s.max()}')\n",
    "print(f'Month having highest marks: {s.idxmax()}')\n",
    "variance = ((s - s.mean())**2).sum() / s.count()\n",
    "print(f\"Variance: {variance}\")\n",
    "std_deviation = math.sqrt(variance)\n",
    "print(f\"Standard Deviation: {std_deviation}\")\n",
    "print(f\"Pandas Standard Deviation method: {s.std()}\")"
   ]
  },
  {
   "cell_type": "markdown",
   "metadata": {},
   "source": [
    "Pandas standard deviation result is different from the one which we calculated. \\\n",
    "Why so? because by default, pandas assumes that we don't want to divide by s.count() but rather by s.count() - 1. \\\n",
    "This is known as the sample standard deviation and is typically used on a sample of the data rather than the entire population. \\\n",
    "The pandas authors decided to default to this calculation. \\\n",
    "For us to get the same result we can pass 0 to the std argument ddof(delta degrees of freedom) std(ddof=0) | default value is 1 \\"
   ]
  },
  {
   "cell_type": "code",
   "execution_count": 15,
   "metadata": {},
   "outputs": [
    {
     "name": "stdout",
     "output_type": "stream",
     "text": [
      "Pandas Standard Deviation method: 9.23038460737146\n"
     ]
    }
   ],
   "source": [
    "print(f\"Pandas Standard Deviation method: {s.std(ddof=0)}\")"
   ]
  },
  {
   "cell_type": "markdown",
   "metadata": {},
   "source": [
    "Exercise 2 • Scaling test scores \\\n",
    "When I was in high school and college, our instructors sometimes gave extremely hard tests. Rather than fail most of the class, they would scale the test scores, known in some places as grading on a curve. They would assume that the average test score should be 80, calculate the difference between our actual mean and 80, and then add that difference to each of our scores.\n",
    "\n",
    "For this exercise, I want you to generate 10 test scores between 40 and 60, again using an index starting with September and ending with June. Find the mean of the\n",
    "\n",
    "scores and add the difference between the mean and 80 to each of the scores."
   ]
  },
  {
   "cell_type": "code",
   "execution_count": null,
   "metadata": {},
   "outputs": [],
   "source": []
  }
 ],
 "metadata": {
  "kernelspec": {
   "display_name": "my-env",
   "language": "python",
   "name": "python3"
  },
  "language_info": {
   "codemirror_mode": {
    "name": "ipython",
    "version": 3
   },
   "file_extension": ".py",
   "mimetype": "text/x-python",
   "name": "python",
   "nbconvert_exporter": "python",
   "pygments_lexer": "ipython3",
   "version": "3.11.5"
  }
 },
 "nbformat": 4,
 "nbformat_minor": 2
}
