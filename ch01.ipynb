{
 "cells": [
  {
   "cell_type": "code",
   "execution_count": 2,
   "metadata": {},
   "outputs": [],
   "source": [
    "import pandas as pd\n",
    "from pandas import Series, DataFrame\n",
    "import numpy as np\n",
    "import math"
   ]
  },
  {
   "cell_type": "markdown",
   "metadata": {},
   "source": [
    "Exercise 1 • Test scores \\\n",
    "Create a series of 10 elements, random integers from 70 to 100, representing scores on a monthly exam. Set the index to be the month names,  starting in September and ending in June. (If these months don’t match the school year in your location, feel free to make them more realistic.) \n",
    "\n",
    "With this series, write code to answer the following questions:\n",
    "\n",
    "What is the student’s average test score for the entire year? \n",
    "\n",
    "What is the student’s average test score during the first half of the year (i.e., the first five months)? \n",
    "\n",
    "What is the student’s average test score during the second half of the year? \n",
    "\n",
    "Did the student improve their performance in the second half? If so, by how much? "
   ]
  },
  {
   "cell_type": "code",
   "execution_count": 3,
   "metadata": {},
   "outputs": [
    {
     "data": {
      "text/plain": [
       "array([96, 89, 85, 78, 79, 71, 72, 70, 75, 95])"
      ]
     },
     "execution_count": 3,
     "metadata": {},
     "output_type": "execute_result"
    }
   ],
   "source": [
    "g = np.random.default_rng(0)\n",
    "a = g.integers(70, 101, 10)\n",
    "a"
   ]
  },
  {
   "cell_type": "code",
   "execution_count": 4,
   "metadata": {},
   "outputs": [
    {
     "data": {
      "text/plain": [
       "Sep     90\n",
       "Oct     98\n",
       "Nov     85\n",
       "Dec     88\n",
       "Jan    100\n",
       "Feb     92\n",
       "Mar     89\n",
       "Apr     86\n",
       "May     87\n",
       "Jun     98\n",
       "dtype: int64"
      ]
     },
     "execution_count": 4,
     "metadata": {},
     "output_type": "execute_result"
    }
   ],
   "source": [
    "s = Series(g.integers(70, 101, 10))\n",
    "s.index = 'Sep Oct Nov Dec Jan Feb Mar Apr May Jun'.split()\n",
    "s"
   ]
  },
  {
   "cell_type": "markdown",
   "metadata": {},
   "source": [
    "using the index argument in the Series"
   ]
  },
  {
   "cell_type": "code",
   "execution_count": 5,
   "metadata": {},
   "outputs": [
    {
     "data": {
      "text/plain": [
       "Sep    78\n",
       "Oct    95\n",
       "Nov    90\n",
       "Dec    70\n",
       "Jan    82\n",
       "Feb    96\n",
       "Mar    87\n",
       "Apr    71\n",
       "May    93\n",
       "Jun    92\n",
       "dtype: int64"
      ]
     },
     "execution_count": 5,
     "metadata": {},
     "output_type": "execute_result"
    }
   ],
   "source": [
    "months = 'Sep Oct Nov Dec Jan Feb Mar Apr May Jun'.split()\n",
    "s = Series(g.integers(70, 101, 10), index=months)\n",
    "s"
   ]
  },
  {
   "cell_type": "markdown",
   "metadata": {},
   "source": [
    "calculate mean using python slicing"
   ]
  },
  {
   "cell_type": "code",
   "execution_count": 6,
   "metadata": {},
   "outputs": [
    {
     "name": "stdout",
     "output_type": "stream",
     "text": [
      "First Half average: 83.0\n",
      "Second Half average: 87.8\n"
     ]
    }
   ],
   "source": [
    "print(f'First Half average: {s[:5].mean()}')\n",
    "print(f'Second Half average: {s[5:].mean()}')"
   ]
  },
  {
   "cell_type": "markdown",
   "metadata": {},
   "source": [
    "or we can use index from in pandas Series \\\n",
    "loc: works on the index we define (string index) \\\n",
    "iloc: works on the default numeric index (0..)"
   ]
  },
  {
   "cell_type": "code",
   "execution_count": 7,
   "metadata": {},
   "outputs": [
    {
     "data": {
      "text/plain": [
       "np.float64(83.0)"
      ]
     },
     "execution_count": 7,
     "metadata": {},
     "output_type": "execute_result"
    }
   ],
   "source": [
    "first_half_avg = s.loc['Sep': 'Jan'].mean()\n",
    "first_half_avg"
   ]
  },
  {
   "cell_type": "markdown",
   "metadata": {},
   "source": [
    "using head and tail \\\n",
    "head: takes an int argument and returns that many elements from the start of series \\\n",
    "tail: the opposite"
   ]
  },
  {
   "cell_type": "code",
   "execution_count": 8,
   "metadata": {},
   "outputs": [
    {
     "name": "stdout",
     "output_type": "stream",
     "text": [
      "83.0\n",
      "87.8\n"
     ]
    }
   ],
   "source": [
    "print(s.head(5).mean())\n",
    "print(s.tail(5).mean())"
   ]
  },
  {
   "cell_type": "markdown",
   "metadata": {},
   "source": [
    "Solution"
   ]
  },
  {
   "cell_type": "code",
   "execution_count": 9,
   "metadata": {},
   "outputs": [
    {
     "name": "stdout",
     "output_type": "stream",
     "text": [
      "Yearly average: 81.0\n",
      "First half average: 85.4\n",
      "Second half average: 76.6\n",
      "Imporvement: -8.800000000000011\n",
      "Highest marks: 96\n",
      "Month having highest marks: Sep\n",
      "Variance: 85.2\n",
      "Standard Deviation: 9.23038460737146\n",
      "Pandas Standard Deviation method: 9.72967967955095\n"
     ]
    }
   ],
   "source": [
    "g = np.random.default_rng(0)\n",
    "months = 'Sep Oct Nov Dec Jan Feb Mar Apr May Jun'.split()\n",
    "s = Series(g.integers(70, 101, 10), index=months)\n",
    "\n",
    "print(f'Yearly average: {s.mean()}')\n",
    "first_half_avg = s['Sep': 'Jan'].mean()\n",
    "second_half_avg = s['Feb': 'Jun'].mean()\n",
    "print(f'First half average: {first_half_avg}')\n",
    "print(f'Second half average: {second_half_avg}')\n",
    "print(f'Imporvement: {second_half_avg - first_half_avg}')\n",
    "print(f'Highest marks: {s.max()}')\n",
    "print(f'Month having highest marks: {s.idxmax()}')\n",
    "variance = ((s - s.mean())**2).sum() / s.count()\n",
    "print(f\"Variance: {variance}\")\n",
    "std_deviation = math.sqrt(variance)\n",
    "print(f\"Standard Deviation: {std_deviation}\")\n",
    "print(f\"Pandas Standard Deviation method: {s.std()}\")"
   ]
  },
  {
   "cell_type": "markdown",
   "metadata": {},
   "source": [
    "Pandas standard deviation result is different from the one which we calculated. \\\n",
    "Why so? because by default, pandas assumes that we don't want to divide by s.count() but rather by s.count() - 1. \\\n",
    "This is known as the sample standard deviation and is typically used on a sample of the data rather than the entire population. \\\n",
    "The pandas authors decided to default to this calculation. \\\n",
    "For us to get the same result we can pass 0 to the std argument ddof(delta degrees of freedom) std(ddof=0) | default value is 1 \\"
   ]
  },
  {
   "cell_type": "code",
   "execution_count": 10,
   "metadata": {},
   "outputs": [
    {
     "name": "stdout",
     "output_type": "stream",
     "text": [
      "Pandas Standard Deviation method: 9.23038460737146\n"
     ]
    }
   ],
   "source": [
    "print(f\"Pandas Standard Deviation method: {s.std(ddof=0)}\")"
   ]
  },
  {
   "cell_type": "markdown",
   "metadata": {},
   "source": [
    "# Exercise 2 • Scaling test scores \\\n",
    "When I was in high school and college, our instructors sometimes gave extremely hard tests. Rather than fail most of the class, they would scale the test scores, known in some places as grading on a curve. They would assume that the average test score should be 80, calculate the difference between our actual mean and 80, and then add that difference to each of our scores.\n",
    "\n",
    "For this exercise, I want you to generate 10 test scores between 40 and 60, again using an index starting with September and ending with June. Find the mean of the\n",
    "\n",
    "scores and add the difference between the mean and 80 to each of the scores."
   ]
  },
  {
   "cell_type": "markdown",
   "metadata": {},
   "source": [
    "##### Exp 1: When we add two series together, the result is a new series - the result of adding elements at the same index."
   ]
  },
  {
   "cell_type": "code",
   "execution_count": 12,
   "metadata": {},
   "outputs": [
    {
     "data": {
      "text/plain": [
       "0    110\n",
       "1    220\n",
       "2    330\n",
       "3    440\n",
       "dtype: int64"
      ]
     },
     "execution_count": 12,
     "metadata": {},
     "output_type": "execute_result"
    }
   ],
   "source": [
    "s1 = Series([10, 20, 30, 40])\n",
    "s2 = Series([100, 200, 300, 400])\n",
    "s1 + s2"
   ]
  },
  {
   "cell_type": "markdown",
   "metadata": {},
   "source": [
    "##### Exp 2: Vectorized operations work using the index, not the position."
   ]
  },
  {
   "cell_type": "markdown",
   "metadata": {},
   "source": [
    "Notice even though the index in s1 is forward 'abcd', whereas the index in s3 is backward 'dcba'. The index values determine the value match-ups, not their position."
   ]
  },
  {
   "cell_type": "code",
   "execution_count": 14,
   "metadata": {},
   "outputs": [
    {
     "data": {
      "text/plain": [
       "a    410\n",
       "b    320\n",
       "c    230\n",
       "d    140\n",
       "dtype: int64"
      ]
     },
     "execution_count": 14,
     "metadata": {},
     "output_type": "execute_result"
    }
   ],
   "source": [
    "s1 = Series([10, 20, 30, 40], index=(list('abcd')))\n",
    "s3 = Series([100, 200, 300, 400], index=(list('dcba')))\n",
    "s1 + s3"
   ]
  },
  {
   "cell_type": "markdown",
   "metadata": {},
   "source": [
    "##### Exp 3: Operations involving a series and a scalar value result in broadcasting the operation, resulting in a new series."
   ]
  },
  {
   "cell_type": "code",
   "execution_count": 16,
   "metadata": {},
   "outputs": [
    {
     "data": {
      "text/plain": [
       "a    15\n",
       "b    25\n",
       "c    35\n",
       "d    45\n",
       "dtype: int64"
      ]
     },
     "execution_count": 16,
     "metadata": {},
     "output_type": "execute_result"
    }
   ],
   "source": [
    "s = Series([10, 20, 30, 40], index=list('abcd'))\n",
    "s + 5"
   ]
  },
  {
   "cell_type": "markdown",
   "metadata": {},
   "source": [
    "# Solution Exercise 2"
   ]
  },
  {
   "cell_type": "code",
   "execution_count": 19,
   "metadata": {},
   "outputs": [
    {
     "data": {
      "text/plain": [
       "Sep    90.0\n",
       "Oct    85.0\n",
       "Nov    83.0\n",
       "Dec    78.0\n",
       "Jan    79.0\n",
       "Feb    73.0\n",
       "Mar    74.0\n",
       "Apr    73.0\n",
       "May    76.0\n",
       "Jun    89.0\n",
       "dtype: float64"
      ]
     },
     "execution_count": 19,
     "metadata": {},
     "output_type": "execute_result"
    }
   ],
   "source": [
    "g = np.random.default_rng(0)\n",
    "months = 'Sep Oct Nov Dec Jan Feb Mar Apr May Jun'.split()\n",
    "s = Series(g.integers(40, 60, 10), index=months)\n",
    "s + (80 - s.mean())"
   ]
  },
  {
   "cell_type": "markdown",
   "metadata": {},
   "source": [
    "# Exercise 3 • Counting tens digits \\\n",
    "Generate 10 random integers in the range 0 to 100. (Remember that the np.random.randint function returns numbers that include the lower bound but exclude the upper bound.) Create a series containing those numbers’ tens digits. Thus, if our series contains 10, 25, 32, we want the series 1, 2, 3."
   ]
  },
  {
   "cell_type": "code",
   "execution_count": 22,
   "metadata": {},
   "outputs": [
    {
     "data": {
      "text/plain": [
       "array([56, 63, 77, 86, 65, 60, 48, 81,  7, 73])"
      ]
     },
     "execution_count": 22,
     "metadata": {},
     "output_type": "execute_result"
    }
   ],
   "source": [
    "a = np.random.randint(0, 100, 10)\n",
    "a"
   ]
  },
  {
   "cell_type": "code",
   "execution_count": 25,
   "metadata": {},
   "outputs": [
    {
     "data": {
      "text/plain": [
       "array([5.6, 6.3, 7.7, 8.6, 6.5, 6. , 4.8, 8.1, 0.7, 7.3])"
      ]
     },
     "execution_count": 25,
     "metadata": {},
     "output_type": "execute_result"
    }
   ],
   "source": [
    "a = a / 10\n",
    "a"
   ]
  },
  {
   "cell_type": "code",
   "execution_count": 29,
   "metadata": {},
   "outputs": [
    {
     "data": {
      "text/plain": [
       "array([5, 6, 7, 8, 6, 6, 4, 8, 0, 7], dtype=int8)"
      ]
     },
     "execution_count": 29,
     "metadata": {},
     "output_type": "execute_result"
    }
   ],
   "source": [
    "a = a.astype(np.int8)\n",
    "a"
   ]
  },
  {
   "cell_type": "markdown",
   "metadata": {},
   "source": [
    "We can do better to avoid certain steps by using python's // (floordiv) operator"
   ]
  },
  {
   "cell_type": "code",
   "execution_count": 37,
   "metadata": {},
   "outputs": [
    {
     "data": {
      "text/plain": [
       "array([ 5, 97,  8, 94, 35, 75, 57, 36, 67, 55])"
      ]
     },
     "execution_count": 37,
     "metadata": {},
     "output_type": "execute_result"
    }
   ],
   "source": [
    "s = np.random.randint(0, 100, 10)\n",
    "s"
   ]
  },
  {
   "cell_type": "code",
   "execution_count": 38,
   "metadata": {},
   "outputs": [
    {
     "data": {
      "text/plain": [
       "array([0, 9, 0, 9, 3, 7, 5, 3, 6, 5])"
      ]
     },
     "execution_count": 38,
     "metadata": {},
     "output_type": "execute_result"
    }
   ],
   "source": [
    "s = s // 10\n",
    "s"
   ]
  },
  {
   "cell_type": "markdown",
   "metadata": {},
   "source": [
    "There's another approach we can try is that we can convert the elements into str and take the first char"
   ]
  },
  {
   "cell_type": "code",
   "execution_count": 71,
   "metadata": {},
   "outputs": [
    {
     "data": {
      "text/plain": [
       "0    30\n",
       "1    70\n",
       "2     2\n",
       "3    41\n",
       "4    41\n",
       "5    78\n",
       "6    42\n",
       "7    76\n",
       "8    16\n",
       "9    83\n",
       "dtype: int64"
      ]
     },
     "execution_count": 71,
     "metadata": {},
     "output_type": "execute_result"
    }
   ],
   "source": [
    "s = Series(np.random.randint(0, 100, 10))\n",
    "s "
   ]
  },
  {
   "cell_type": "code",
   "execution_count": 72,
   "metadata": {},
   "outputs": [
    {
     "data": {
      "text/plain": [
       "0    30\n",
       "1    70\n",
       "2     2\n",
       "3    41\n",
       "4    41\n",
       "5    78\n",
       "6    42\n",
       "7    76\n",
       "8    16\n",
       "9    83\n",
       "dtype: object"
      ]
     },
     "execution_count": 72,
     "metadata": {},
     "output_type": "execute_result"
    }
   ],
   "source": [
    "s.astype(str)"
   ]
  },
  {
   "cell_type": "markdown",
   "metadata": {},
   "source": [
    "we can take the first char (0) or we can take the second last (-2) because these are 2-digit number, in case we face 05 we will get NaN and we can replace it with fillna(0) method replacing it with 0"
   ]
  },
  {
   "cell_type": "code",
   "execution_count": 73,
   "metadata": {},
   "outputs": [
    {
     "data": {
      "text/plain": [
       "0    3\n",
       "1    7\n",
       "2    0\n",
       "3    4\n",
       "4    4\n",
       "5    7\n",
       "6    4\n",
       "7    7\n",
       "8    1\n",
       "9    8\n",
       "dtype: object"
      ]
     },
     "execution_count": 73,
     "metadata": {},
     "output_type": "execute_result"
    }
   ],
   "source": [
    "s = s.astype(str).str.get(-2).fillna('0')\n",
    "s"
   ]
  },
  {
   "cell_type": "markdown",
   "metadata": {},
   "source": [
    "we can change the dtype to np.int8 as the numbers we have is small and is in range (-127 to 128)"
   ]
  },
  {
   "cell_type": "code",
   "execution_count": 75,
   "metadata": {},
   "outputs": [
    {
     "data": {
      "text/plain": [
       "0    3\n",
       "1    7\n",
       "2    0\n",
       "3    4\n",
       "4    4\n",
       "5    7\n",
       "6    4\n",
       "7    7\n",
       "8    1\n",
       "9    8\n",
       "dtype: int8"
      ]
     },
     "execution_count": 75,
     "metadata": {},
     "output_type": "execute_result"
    }
   ],
   "source": [
    "s = s.astype(np.int8)\n",
    "s"
   ]
  },
  {
   "cell_type": "markdown",
   "metadata": {},
   "source": [
    "# Solution"
   ]
  },
  {
   "cell_type": "code",
   "execution_count": 76,
   "metadata": {},
   "outputs": [
    {
     "data": {
      "text/plain": [
       "0    8\n",
       "1    6\n",
       "2    5\n",
       "3    2\n",
       "4    3\n",
       "5    0\n",
       "6    0\n",
       "7    0\n",
       "8    1\n",
       "9    8\n",
       "dtype: int64"
      ]
     },
     "execution_count": 76,
     "metadata": {},
     "output_type": "execute_result"
    }
   ],
   "source": [
    "g = np.random.default_rng(0)\n",
    "s = Series(g.integers(0, 100, 10))\n",
    "s // 10"
   ]
  },
  {
   "cell_type": "markdown",
   "metadata": {},
   "source": [
    "### Selecting values with booleans (mask index)"
   ]
  },
  {
   "cell_type": "code",
   "execution_count": 78,
   "metadata": {},
   "outputs": [
    {
     "name": "stdout",
     "output_type": "stream",
     "text": [
      "40\n"
     ]
    }
   ],
   "source": [
    "s = Series([10, 20, 30, 40, 50])\n",
    "print(s.loc[3])"
   ]
  },
  {
   "cell_type": "code",
   "execution_count": 80,
   "metadata": {},
   "outputs": [
    {
     "name": "stdout",
     "output_type": "stream",
     "text": [
      "0    10\n",
      "1    20\n",
      "4    50\n",
      "dtype: int64\n"
     ]
    }
   ],
   "source": [
    "print(s.loc[[True, True, False, False, True]]) # selecting uisng mask index"
   ]
  },
  {
   "cell_type": "code",
   "execution_count": 81,
   "metadata": {},
   "outputs": [
    {
     "name": "stdout",
     "output_type": "stream",
     "text": [
      "0    10\n",
      "1    20\n",
      "dtype: int64\n"
     ]
    }
   ],
   "source": [
    "print(s.loc[s < 30])"
   ]
  },
  {
   "cell_type": "code",
   "execution_count": 82,
   "metadata": {},
   "outputs": [
    {
     "name": "stdout",
     "output_type": "stream",
     "text": [
      "0    10\n",
      "1    20\n",
      "2    30\n",
      "dtype: int64\n"
     ]
    }
   ],
   "source": [
    "print(s.loc[s <= s.mean()])"
   ]
  },
  {
   "cell_type": "code",
   "execution_count": 84,
   "metadata": {},
   "outputs": [
    {
     "data": {
      "text/plain": [
       "0    999\n",
       "1    999\n",
       "2    999\n",
       "3     40\n",
       "4     50\n",
       "dtype: int64"
      ]
     },
     "execution_count": 84,
     "metadata": {},
     "output_type": "execute_result"
    }
   ],
   "source": [
    "# we can use mask index for assignment as well\n",
    "s.loc[s <= s.mean()] = 999\n",
    "s"
   ]
  },
  {
   "cell_type": "markdown",
   "metadata": {},
   "source": [
    "we can also retrieve multiple values this way"
   ]
  },
  {
   "cell_type": "code",
   "execution_count": 85,
   "metadata": {},
   "outputs": [
    {
     "name": "stdout",
     "output_type": "stream",
     "text": [
      "2    999\n",
      "4     50\n",
      "dtype: int64\n"
     ]
    }
   ],
   "source": [
    "print(s.loc[[2, 4]])"
   ]
  },
  {
   "cell_type": "markdown",
   "metadata": {},
   "source": [
    "# Exercise 4 • Descriptive statistics \\\n",
    "The mean, median, and standard deviation are three numbers we can use to get a better picture of our data. Adding a few other numbers can give us an even more complete picture. These descriptive statistics typically include the mean, standard deviation, minimum value, 25% quantile, median, 50% quantile, and maximum value. Understanding and using descriptive statistics is a key skill for anyone working with data.\n",
    "\n",
    "* Generate a series of 100,000 floats in a normal distribution with a mean of 0 and a standard deviation of 100.\n",
    "\n",
    "* Get the descriptive statistics for this series. How close are the mean and median? (You don’t need to calculate the difference; rather, consider why they aren’t the same.)\n",
    "\n",
    "* Replace the minimum value with 5 times the maximum value.\n",
    "\n",
    "* Get the descriptive statistics again. Did the mean, median, and standard deviations change from their previous values? (Again, it’s enough to see the difference without calculating it.) If so, why?"
   ]
  },
  {
   "cell_type": "markdown",
   "metadata": {},
   "source": [
    "we will use g.normal rather than np.random.randint \\\n",
    "Why? because np.random.randint generates a random distribution whereas g.normal generates a normal distribution and we can specify the mean and standard deviation"
   ]
  },
  {
   "cell_type": "code",
   "execution_count": 89,
   "metadata": {},
   "outputs": [
    {
     "data": {
      "text/plain": [
       "count    100000.000000\n",
       "mean         -0.090825\n",
       "std         100.013350\n",
       "min        -449.411704\n",
       "25%         -67.292120\n",
       "50%          -0.414699\n",
       "75%          67.636542\n",
       "max         473.195769\n",
       "dtype: float64"
      ]
     },
     "execution_count": 89,
     "metadata": {},
     "output_type": "execute_result"
    }
   ],
   "source": [
    "g = np.random.default_rng(0)\n",
    "s = Series(g.normal(0, 100, 100_000)) # mean, std, count\n",
    "s.describe() # pandas describe method returns a series of measurements"
   ]
  },
  {
   "cell_type": "code",
   "execution_count": 90,
   "metadata": {},
   "outputs": [
    {
     "data": {
      "text/plain": [
       "0        False\n",
       "1        False\n",
       "2        False\n",
       "3        False\n",
       "4        False\n",
       "         ...  \n",
       "99995    False\n",
       "99996    False\n",
       "99997    False\n",
       "99998    False\n",
       "99999    False\n",
       "Length: 100000, dtype: bool"
      ]
     },
     "execution_count": 90,
     "metadata": {},
     "output_type": "execute_result"
    }
   ],
   "source": [
    "s == s.min() # this returns a boolean series with True wherever the value of s is the minimum."
   ]
  },
  {
   "cell_type": "code",
   "execution_count": 91,
   "metadata": {},
   "outputs": [
    {
     "data": {
      "text/plain": [
       "21655   -449.411704\n",
       "dtype: float64"
      ]
     },
     "execution_count": 91,
     "metadata": {},
     "output_type": "execute_result"
    }
   ],
   "source": [
    "s.loc[s == s.min()] # apply the boolean series as mask"
   ]
  },
  {
   "cell_type": "code",
   "execution_count": 95,
   "metadata": {},
   "outputs": [],
   "source": [
    "s.loc[s == s.min()] = 5 * s.max()"
   ]
  },
  {
   "cell_type": "code",
   "execution_count": 96,
   "metadata": {},
   "outputs": [
    {
     "data": {
      "text/plain": [
       "count    100000.000000\n",
       "mean         -0.062671\n",
       "std         100.282770\n",
       "min        -402.315865\n",
       "25%         -67.288054\n",
       "50%          -0.409289\n",
       "75%          67.640758\n",
       "max        2365.978844\n",
       "dtype: float64"
      ]
     },
     "execution_count": 96,
     "metadata": {},
     "output_type": "execute_result"
    }
   ],
   "source": [
    "s.describe()"
   ]
  },
  {
   "cell_type": "markdown",
   "metadata": {},
   "source": [
    "# Exercise 5 • Monday temperatures \\\n",
    "Newcomers to pandas often assume that a series index must be unique. After all, the index in a Python string, list, or tuple is unique, as are the keys in a Python dictionary. But the values in a pandas index can repeat, making it easier to retrieve values with the same index. If an index contains user IDs, country codes, or email addresses, we can use it to retrieve data associated with specific index values that would otherwise require a messier and longer mask index.\n",
    "\n",
    "In this exercise, I want you to create a series of 28 temperature readings in Celsius, representing four seven-day weeks, randomly selected from a normal distribution with a mean of 20 and a standard deviation of 5, rounded to the nearest integer. (If you’re in a country that measures temperature in Fahrenheit, pretend you’re looking at the weather in an exotic foreign location rather than where you live.) The index should start with Sun, continue through Sat, and repeat Sun through Sat until each temperature has a value. The question is, what was the mean temperature on Mondays during this period?"
   ]
  },
  {
   "cell_type": "code",
   "execution_count": 97,
   "metadata": {},
   "outputs": [
    {
     "data": {
      "text/plain": [
       "array([20.62865111, 19.33947568, 23.20211325, 20.52450059, 17.32165313,\n",
       "       21.80797527, 26.52000023, 24.73540482, 16.48132382, 13.67289264,\n",
       "       16.88362769, 20.2066299 ,  8.37484613, 18.90604168, 13.77044526,\n",
       "       16.33866323, 17.27870509, 18.41849922, 22.05815268, 25.21256685,\n",
       "       19.35732669, 26.83231735, 16.67402663, 21.75755035, 24.51735091,\n",
       "       20.47006149, 16.28250375, 15.39137312])"
      ]
     },
     "execution_count": 97,
     "metadata": {},
     "output_type": "execute_result"
    }
   ],
   "source": [
    "g = np.random.default_rng(0)\n",
    "g.normal(20, 5, 28)"
   ]
  },
  {
   "cell_type": "code",
   "execution_count": 98,
   "metadata": {},
   "outputs": [],
   "source": [
    "days = 'Sun Mon Tue Wed Thu Fri Sat'.split()"
   ]
  },
  {
   "cell_type": "code",
   "execution_count": 101,
   "metadata": {},
   "outputs": [],
   "source": [
    "s = Series(g.normal(20, 5, 28), index=days*4) # we can repeat the days 4 times to get the indexes for 28 days"
   ]
  },
  {
   "cell_type": "code",
   "execution_count": 102,
   "metadata": {},
   "outputs": [],
   "source": [
    "s = Series(g.normal(20, 5, 28), index=days*4).round().astype(np.int8)"
   ]
  },
  {
   "cell_type": "code",
   "execution_count": 105,
   "metadata": {},
   "outputs": [
    {
     "data": {
      "text/plain": [
       "Mon    23\n",
       "Mon    18\n",
       "Mon    13\n",
       "Mon    16\n",
       "dtype: int8"
      ]
     },
     "execution_count": 105,
     "metadata": {},
     "output_type": "execute_result"
    }
   ],
   "source": [
    "s.loc['Mon'] # for repeated index we get multiple values, and in pandas whenever we get multiple values we get as Series"
   ]
  },
  {
   "cell_type": "code",
   "execution_count": 106,
   "metadata": {},
   "outputs": [
    {
     "data": {
      "text/plain": [
       "np.float64(17.5)"
      ]
     },
     "execution_count": 106,
     "metadata": {},
     "output_type": "execute_result"
    }
   ],
   "source": [
    "s.loc['Mon'].mean()"
   ]
  },
  {
   "cell_type": "markdown",
   "metadata": {},
   "source": [
    "# Exercise 6 • Passenger frequency\n",
    "In this exercise, we begin looking at real-world data loaded from a one-column CSV file. We’ll take a deeper look at reading from and writing to files in chapter 3, but we start here by invoking pd.read_csv, calling squeeze on the one-column data frame it returns, and getting back a series.\n",
    "\n",
    "The data is in the file taxi-passenger-count.csv, available along with the other data files used in this course. The data comes from 2015 data I retrieved from New York City’s open data site, where you can get enormous amounts of information about taxi rides in New York City over the last few years. This file shows the number of passengers in each of 100,000 rides.\n",
    "\n",
    "Your task in this exercise is to show what percentage of taxi rides had only one passenger versus the (theoretical) maximum of six passengers."
   ]
  },
  {
   "cell_type": "code",
   "execution_count": 108,
   "metadata": {},
   "outputs": [],
   "source": [
    "s = pd.read_csv('./data/taxi-passenger-count.csv', header=None).squeeze()"
   ]
  },
  {
   "cell_type": "code",
   "execution_count": 110,
   "metadata": {},
   "outputs": [
    {
     "data": {
      "text/plain": [
       "np.int64(7207)"
      ]
     },
     "execution_count": 110,
     "metadata": {},
     "output_type": "execute_result"
    }
   ],
   "source": [
    "s.loc[s==1].count() # count how many times a value occurs"
   ]
  },
  {
   "cell_type": "code",
   "execution_count": 112,
   "metadata": {},
   "outputs": [
    {
     "name": "stdout",
     "output_type": "stream",
     "text": [
      "0.7207720772077207\n",
      "0.0369036903690369\n"
     ]
    }
   ],
   "source": [
    "print(s.loc[s==1].count() / s.count())\n",
    "print(s.loc[s==6].count() / s.count())"
   ]
  },
  {
   "cell_type": "code",
   "execution_count": 113,
   "metadata": {},
   "outputs": [
    {
     "data": {
      "text/plain": [
       "0\n",
       "1    7207\n",
       "2    1313\n",
       "5     520\n",
       "3     406\n",
       "6     369\n",
       "4     182\n",
       "0       2\n",
       "Name: count, dtype: int64"
      ]
     },
     "execution_count": 113,
     "metadata": {},
     "output_type": "execute_result"
    }
   ],
   "source": [
    "s.value_counts() # better way than count() on individual series items, value_counts() returns a series of item counts"
   ]
  },
  {
   "cell_type": "code",
   "execution_count": 115,
   "metadata": {},
   "outputs": [
    {
     "data": {
      "text/plain": [
       "0\n",
       "1    7207\n",
       "6     369\n",
       "Name: count, dtype: int64"
      ]
     },
     "execution_count": 115,
     "metadata": {},
     "output_type": "execute_result"
    }
   ],
   "source": [
    "s.value_counts()[[1,6]]"
   ]
  },
  {
   "cell_type": "code",
   "execution_count": 116,
   "metadata": {},
   "outputs": [
    {
     "data": {
      "text/plain": [
       "0\n",
       "1    0.720772\n",
       "6    0.036904\n",
       "Name: proportion, dtype: float64"
      ]
     },
     "execution_count": 116,
     "metadata": {},
     "output_type": "execute_result"
    }
   ],
   "source": [
    "s.value_counts(normalize=True)[[1, 6]] # value_counts has normalize argument which returns the percentage fraction"
   ]
  },
  {
   "cell_type": "code",
   "execution_count": 117,
   "metadata": {},
   "outputs": [
    {
     "data": {
      "text/plain": [
       "0.25    1.0\n",
       "0.50    1.0\n",
       "0.75    2.0\n",
       "Name: 0, dtype: float64"
      ]
     },
     "execution_count": 117,
     "metadata": {},
     "output_type": "execute_result"
    }
   ],
   "source": [
    "s.quantile([0.25, 0.50, .75])"
   ]
  },
  {
   "cell_type": "markdown",
   "metadata": {},
   "source": [
    "# Exercise 7 • Long, medium, and short taxi rides\n",
    "In this exercise, we once again look at taxi data—but instead of the number of passengers, we examine the distance (in miles) each taxi ride went. Once again, I’ll ask you to create a series based on a single-column CSV file, taxi-distance.csv.\n",
    "\n",
    "First, load the data into a series. Then modify the series (or create another series) containing category names rather than numbers based on these criteria:\n",
    "\n",
    "* Short, ≤ 2 miles\n",
    "\n",
    "* Medium, > 2 miles but ≤ 10 miles\n",
    "\n",
    "* Long, > 10 miles\n",
    "\n",
    "Calculate the number of rides in each category.\n",
    "\n"
   ]
  },
  {
   "cell_type": "code",
   "execution_count": 118,
   "metadata": {},
   "outputs": [],
   "source": [
    "s = pd.read_csv('data/taxi-distance.csv', header=None).squeeze()"
   ]
  },
  {
   "cell_type": "code",
   "execution_count": 125,
   "metadata": {},
   "outputs": [
    {
     "data": {
      "text/plain": [
       "0\n",
       "short     5890\n",
       "medium    3402\n",
       "long       707\n",
       "Name: count, dtype: int64"
      ]
     },
     "execution_count": 125,
     "metadata": {},
     "output_type": "execute_result"
    }
   ],
   "source": [
    "categories = s.astype(str)  # creates a series with same values as s but data type as str\n",
    "categories.loc[:] = 'medium'\n",
    "categories.loc[s <= 2] = 'short'\n",
    "categories.loc[s > 10] = 'long'\n",
    "categories.value_counts()"
   ]
  },
  {
   "cell_type": "markdown",
   "metadata": {},
   "source": [
    "##### Efficient way to approach this would be pd.cut \n",
    "method which allows to set numeric boundaries and then cut a series into parts (known as bins) based on these boundaries. Moreover, it can assign labels to each of the bins."
   ]
  },
  {
   "cell_type": "code",
   "execution_count": 127,
   "metadata": {},
   "outputs": [
    {
     "data": {
      "text/plain": [
       "0        short\n",
       "1        short\n",
       "2        short\n",
       "3       medium\n",
       "4        short\n",
       "         ...  \n",
       "9994    medium\n",
       "9995    medium\n",
       "9996    medium\n",
       "9997     short\n",
       "9998    medium\n",
       "Name: 0, Length: 9999, dtype: category\n",
       "Categories (3, object): ['short' < 'medium' < 'long']"
      ]
     },
     "execution_count": 127,
     "metadata": {},
     "output_type": "execute_result"
    }
   ],
   "source": [
    "pd.cut(s,\n",
    "       bins=[0, 2, 10, s.max()],\n",
    "       include_lowest=True,\n",
    "       labels=['short', 'medium', 'long'])"
   ]
  },
  {
   "cell_type": "code",
   "execution_count": 128,
   "metadata": {},
   "outputs": [
    {
     "data": {
      "text/plain": [
       "0\n",
       "short     5890\n",
       "medium    3402\n",
       "long       707\n",
       "Name: count, dtype: int64"
      ]
     },
     "execution_count": 128,
     "metadata": {},
     "output_type": "execute_result"
    }
   ],
   "source": [
    "pd.cut(s,\n",
    "       bins=[0, 2, 10, s.max()],\n",
    "       include_lowest=True,\n",
    "       labels=['short', 'medium', 'long']).value_counts()"
   ]
  },
  {
   "cell_type": "code",
   "execution_count": null,
   "metadata": {},
   "outputs": [],
   "source": []
  },
  {
   "cell_type": "code",
   "execution_count": null,
   "metadata": {},
   "outputs": [],
   "source": []
  }
 ],
 "metadata": {
  "kernelspec": {
   "display_name": "my-env",
   "language": "python",
   "name": "python3"
  },
  "language_info": {
   "codemirror_mode": {
    "name": "ipython",
    "version": 3
   },
   "file_extension": ".py",
   "mimetype": "text/x-python",
   "name": "python",
   "nbconvert_exporter": "python",
   "pygments_lexer": "ipython3",
   "version": "3.11.5"
  }
 },
 "nbformat": 4,
 "nbformat_minor": 2
}
