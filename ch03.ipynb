{
 "cells": [
  {
   "cell_type": "markdown",
   "metadata": {},
   "source": [
    "# Chapter 03 - Importing and exporting data"
   ]
  },
  {
   "cell_type": "markdown",
   "metadata": {},
   "source": [
    "## Exercise 15 • Weird taxi rides\n",
    "\n",
    "For this exercise, I want you to create a data frame from the CSV data for January 2019:\n",
    "\n",
    "1. Load the CSV file into a data frame using only the four columns mentioned earlier: passenger_count, trip_distance, payment_type, and total_amount.\n",
    "\n",
    "2. How many taxi rides had more than eight passengers?\n",
    "\n",
    "3. How many taxi rides had zero passengers?\n",
    "\n",
    "4. How many taxi rides were paid for in cash and cost over $1,000?\n",
    "\n",
    "5. How many rides cost less than $0?\n",
    "\n",
    "6. How many rides traveled a below-average distance but cost an above-average amount?"
   ]
  },
  {
   "cell_type": "code",
   "execution_count": 1,
   "metadata": {},
   "outputs": [],
   "source": [
    "import pandas as pd"
   ]
  },
  {
   "cell_type": "code",
   "execution_count": 4,
   "metadata": {},
   "outputs": [
    {
     "data": {
      "text/html": [
       "<div>\n",
       "<style scoped>\n",
       "    .dataframe tbody tr th:only-of-type {\n",
       "        vertical-align: middle;\n",
       "    }\n",
       "\n",
       "    .dataframe tbody tr th {\n",
       "        vertical-align: top;\n",
       "    }\n",
       "\n",
       "    .dataframe thead th {\n",
       "        text-align: right;\n",
       "    }\n",
       "</style>\n",
       "<table border=\"1\" class=\"dataframe\">\n",
       "  <thead>\n",
       "    <tr style=\"text-align: right;\">\n",
       "      <th></th>\n",
       "      <th>passenger_count</th>\n",
       "      <th>trip_distance</th>\n",
       "      <th>payment_type</th>\n",
       "      <th>total_amount</th>\n",
       "    </tr>\n",
       "  </thead>\n",
       "  <tbody>\n",
       "    <tr>\n",
       "      <th>0</th>\n",
       "      <td>1</td>\n",
       "      <td>1.50</td>\n",
       "      <td>1</td>\n",
       "      <td>9.95</td>\n",
       "    </tr>\n",
       "    <tr>\n",
       "      <th>1</th>\n",
       "      <td>1</td>\n",
       "      <td>2.60</td>\n",
       "      <td>1</td>\n",
       "      <td>16.30</td>\n",
       "    </tr>\n",
       "    <tr>\n",
       "      <th>2</th>\n",
       "      <td>3</td>\n",
       "      <td>0.00</td>\n",
       "      <td>1</td>\n",
       "      <td>5.80</td>\n",
       "    </tr>\n",
       "    <tr>\n",
       "      <th>3</th>\n",
       "      <td>5</td>\n",
       "      <td>0.00</td>\n",
       "      <td>2</td>\n",
       "      <td>7.55</td>\n",
       "    </tr>\n",
       "    <tr>\n",
       "      <th>4</th>\n",
       "      <td>5</td>\n",
       "      <td>0.00</td>\n",
       "      <td>2</td>\n",
       "      <td>55.55</td>\n",
       "    </tr>\n",
       "    <tr>\n",
       "      <th>...</th>\n",
       "      <td>...</td>\n",
       "      <td>...</td>\n",
       "      <td>...</td>\n",
       "      <td>...</td>\n",
       "    </tr>\n",
       "    <tr>\n",
       "      <th>7667787</th>\n",
       "      <td>1</td>\n",
       "      <td>4.79</td>\n",
       "      <td>1</td>\n",
       "      <td>23.16</td>\n",
       "    </tr>\n",
       "    <tr>\n",
       "      <th>7667788</th>\n",
       "      <td>1</td>\n",
       "      <td>0.00</td>\n",
       "      <td>1</td>\n",
       "      <td>0.00</td>\n",
       "    </tr>\n",
       "    <tr>\n",
       "      <th>7667789</th>\n",
       "      <td>1</td>\n",
       "      <td>0.00</td>\n",
       "      <td>1</td>\n",
       "      <td>0.00</td>\n",
       "    </tr>\n",
       "    <tr>\n",
       "      <th>7667790</th>\n",
       "      <td>1</td>\n",
       "      <td>0.00</td>\n",
       "      <td>1</td>\n",
       "      <td>0.00</td>\n",
       "    </tr>\n",
       "    <tr>\n",
       "      <th>7667791</th>\n",
       "      <td>1</td>\n",
       "      <td>0.00</td>\n",
       "      <td>1</td>\n",
       "      <td>0.00</td>\n",
       "    </tr>\n",
       "  </tbody>\n",
       "</table>\n",
       "<p>7667792 rows × 4 columns</p>\n",
       "</div>"
      ],
      "text/plain": [
       "         passenger_count  trip_distance  payment_type  total_amount\n",
       "0                      1           1.50             1          9.95\n",
       "1                      1           2.60             1         16.30\n",
       "2                      3           0.00             1          5.80\n",
       "3                      5           0.00             2          7.55\n",
       "4                      5           0.00             2         55.55\n",
       "...                  ...            ...           ...           ...\n",
       "7667787                1           4.79             1         23.16\n",
       "7667788                1           0.00             1          0.00\n",
       "7667789                1           0.00             1          0.00\n",
       "7667790                1           0.00             1          0.00\n",
       "7667791                1           0.00             1          0.00\n",
       "\n",
       "[7667792 rows x 4 columns]"
      ]
     },
     "execution_count": 4,
     "metadata": {},
     "output_type": "execute_result"
    }
   ],
   "source": [
    "df = pd.read_csv('data/nyc_taxi_2019-01.csv', usecols=[\n",
    "    'passenger_count', 'trip_distance', 'total_amount', 'payment_type'\n",
    "])\n",
    "df"
   ]
  },
  {
   "cell_type": "code",
   "execution_count": 16,
   "metadata": {},
   "outputs": [
    {
     "name": "stdout",
     "output_type": "stream",
     "text": [
      "Taxi having more than 8 passengers:  9\n",
      "Taxi having 0 passengers:  117381\n",
      "taxi rides were paid for in cash and cost over $1,000:  5\n",
      "rides cost less than $0:  7131\n",
      "rides traveled a below-average distance but cost an above-average amount:  5346016\n",
      "5346016\n"
     ]
    }
   ],
   "source": [
    "print('Taxi having more than 8 passengers: ', \n",
    "      df.loc[df['passenger_count'] > 8, 'passenger_count'].count())\n",
    "print('Taxi having 0 passengers: ', \n",
    "      df.loc[df['passenger_count'] == 0, 'passenger_count'].count())\n",
    "print('taxi rides were paid for in cash and cost over $1,000: ', \n",
    "      df.loc[(df['payment_type'] == 2) & (df['total_amount'] > 1000), 'passenger_count'].count())\n",
    "print('rides cost less than $0: ',\n",
    "      df.loc[df['total_amount'] < 0, 'total_amount'].count())\n",
    "print('rides traveled a below-average distance but cost an above-average amount: ',\n",
    "      df.loc[(df['trip_distance'] < df['trip_distance'].mean()) & \n",
    "             (df['total_amount'] < df['total_amount'].mean()), 'trip_distance'].count())\n",
    "# using query\n",
    "print(df.query('(trip_distance < trip_distance.mean()) & (total_amount < total_amount.mean())')['trip_distance'].count())"
   ]
  },
  {
   "cell_type": "code",
   "execution_count": 17,
   "metadata": {},
   "outputs": [
    {
     "data": {
      "text/plain": [
       "payment_type\n",
       "1    0.715464\n",
       "2    0.278752\n",
       "Name: proportion, dtype: float64"
      ]
     },
     "execution_count": 17,
     "metadata": {},
     "output_type": "execute_result"
    }
   ],
   "source": [
    "# find what percentage normally pays in cash versus a credit card.\n",
    "df['payment_type'].value_counts(normalize=True)[[1,2]]"
   ]
  },
  {
   "cell_type": "markdown",
   "metadata": {},
   "source": [
    "## Exercise 16 • Pandemic taxis\n",
    "With that data in hand, I want you to answer a few questions:\n",
    "\n",
    "* How many rides were taken in 2019 and 2020, and what is the difference between these two figures?\n",
    "\n",
    "* How much money (in total) was collected in 2019 and 2020, and what was the difference between these two figures?\n",
    "\n",
    "* Did the proportion of trips with more than one passenger change dramatically?\n",
    "\n",
    "* Did people use cash (i.e., payment_type of 2) less in 2020 than in 2019?"
   ]
  },
  {
   "cell_type": "code",
   "execution_count": 32,
   "metadata": {},
   "outputs": [
    {
     "data": {
      "text/html": [
       "<div>\n",
       "<style scoped>\n",
       "    .dataframe tbody tr th:only-of-type {\n",
       "        vertical-align: middle;\n",
       "    }\n",
       "\n",
       "    .dataframe tbody tr th {\n",
       "        vertical-align: top;\n",
       "    }\n",
       "\n",
       "    .dataframe thead th {\n",
       "        text-align: right;\n",
       "    }\n",
       "</style>\n",
       "<table border=\"1\" class=\"dataframe\">\n",
       "  <thead>\n",
       "    <tr style=\"text-align: right;\">\n",
       "      <th></th>\n",
       "      <th>passenger_count</th>\n",
       "      <th>payment_type</th>\n",
       "      <th>total_amount</th>\n",
       "      <th>year</th>\n",
       "    </tr>\n",
       "  </thead>\n",
       "  <tbody>\n",
       "    <tr>\n",
       "      <th>0</th>\n",
       "      <td>1.0</td>\n",
       "      <td>1.0</td>\n",
       "      <td>4.94</td>\n",
       "      <td>2019</td>\n",
       "    </tr>\n",
       "    <tr>\n",
       "      <th>1</th>\n",
       "      <td>1.0</td>\n",
       "      <td>2.0</td>\n",
       "      <td>20.30</td>\n",
       "      <td>2019</td>\n",
       "    </tr>\n",
       "    <tr>\n",
       "      <th>2</th>\n",
       "      <td>1.0</td>\n",
       "      <td>1.0</td>\n",
       "      <td>70.67</td>\n",
       "      <td>2019</td>\n",
       "    </tr>\n",
       "    <tr>\n",
       "      <th>3</th>\n",
       "      <td>1.0</td>\n",
       "      <td>1.0</td>\n",
       "      <td>66.36</td>\n",
       "      <td>2019</td>\n",
       "    </tr>\n",
       "    <tr>\n",
       "      <th>4</th>\n",
       "      <td>0.0</td>\n",
       "      <td>1.0</td>\n",
       "      <td>15.30</td>\n",
       "      <td>2019</td>\n",
       "    </tr>\n",
       "    <tr>\n",
       "      <th>...</th>\n",
       "      <td>...</td>\n",
       "      <td>...</td>\n",
       "      <td>...</td>\n",
       "      <td>...</td>\n",
       "    </tr>\n",
       "    <tr>\n",
       "      <th>800407</th>\n",
       "      <td>NaN</td>\n",
       "      <td>NaN</td>\n",
       "      <td>83.50</td>\n",
       "      <td>2020</td>\n",
       "    </tr>\n",
       "    <tr>\n",
       "      <th>800408</th>\n",
       "      <td>NaN</td>\n",
       "      <td>NaN</td>\n",
       "      <td>19.78</td>\n",
       "      <td>2020</td>\n",
       "    </tr>\n",
       "    <tr>\n",
       "      <th>800409</th>\n",
       "      <td>NaN</td>\n",
       "      <td>NaN</td>\n",
       "      <td>38.45</td>\n",
       "      <td>2020</td>\n",
       "    </tr>\n",
       "    <tr>\n",
       "      <th>800410</th>\n",
       "      <td>NaN</td>\n",
       "      <td>NaN</td>\n",
       "      <td>29.77</td>\n",
       "      <td>2020</td>\n",
       "    </tr>\n",
       "    <tr>\n",
       "      <th>800411</th>\n",
       "      <td>NaN</td>\n",
       "      <td>NaN</td>\n",
       "      <td>51.90</td>\n",
       "      <td>2020</td>\n",
       "    </tr>\n",
       "  </tbody>\n",
       "</table>\n",
       "<p>7110831 rows × 4 columns</p>\n",
       "</div>"
      ],
      "text/plain": [
       "        passenger_count  payment_type  total_amount  year\n",
       "0                   1.0           1.0          4.94  2019\n",
       "1                   1.0           2.0         20.30  2019\n",
       "2                   1.0           1.0         70.67  2019\n",
       "3                   1.0           1.0         66.36  2019\n",
       "4                   0.0           1.0         15.30  2019\n",
       "...                 ...           ...           ...   ...\n",
       "800407              NaN           NaN         83.50  2020\n",
       "800408              NaN           NaN         19.78  2020\n",
       "800409              NaN           NaN         38.45  2020\n",
       "800410              NaN           NaN         29.77  2020\n",
       "800411              NaN           NaN         51.90  2020\n",
       "\n",
       "[7110831 rows x 4 columns]"
      ]
     },
     "execution_count": 32,
     "metadata": {},
     "output_type": "execute_result"
    }
   ],
   "source": [
    "df_2019_jul = pd.read_csv('data/nyc_taxi_2019-07.csv', usecols=[\n",
    "    'passenger_count', 'total_amount', 'payment_type'\n",
    "])\n",
    "df_2019_jul['year'] = 2019\n",
    "\n",
    "df_2020_jul = pd.read_csv('data/nyc_taxi_2020-07.csv', usecols=[\n",
    "    'passenger_count', 'total_amount', 'payment_type'\n",
    "])\n",
    "df_2020_jul['year'] = 2020\n",
    "\n",
    "df = pd.concat([df_2019_jul, df_2020_jul])\n",
    "df"
   ]
  },
  {
   "cell_type": "code",
   "execution_count": 33,
   "metadata": {},
   "outputs": [
    {
     "name": "stdout",
     "output_type": "stream",
     "text": [
      "How many rides were taken in 2019 and 2020, and what is the difference between these two figures?\n",
      "2019 rides:  6310419\n",
      "2020 rides:  800412\n",
      "difference:  5510007\n"
     ]
    }
   ],
   "source": [
    "print('How many rides were taken in 2019 and 2020, and what is the difference between these two figures?')\n",
    "count_2019 = df.loc[df['year'] == 2019, 'year'].count()\n",
    "count_2020 = df.loc[df['year'] == 2020, 'year'].count()\n",
    "print('2019 rides: ', count_2019)\n",
    "print('2020 rides: ', count_2020)\n",
    "print('difference: ', abs(count_2019 - count_2020))"
   ]
  },
  {
   "cell_type": "code",
   "execution_count": 35,
   "metadata": {},
   "outputs": [
    {
     "name": "stdout",
     "output_type": "stream",
     "text": [
      "How much money (in total) was collected in 2019 and 2020, and what was the difference between these two figures?\n",
      "Total money collected in 2019:  123761823.33\n",
      "Total money collected in 2020:  14912844.09\n",
      "Difference between money collected in 2019 and 2020: 108848979.24\n"
     ]
    }
   ],
   "source": [
    "print('How much money (in total) was collected in 2019 and 2020, and what was the difference between these two figures?')\n",
    "money_2019 = df.loc[df['year'] == 2019, 'total_amount'].sum()\n",
    "money_2020 = df.loc[df['year'] == 2020, 'total_amount'].sum()\n",
    "print('Total money collected in 2019: ', round(money_2019, 2))\n",
    "print('Total money collected in 2020: ', round(money_2020, 2))\n",
    "print(f'Difference between money collected in 2019 and 2020: {round(abs(money_2019 - money_2020), 2)}')"
   ]
  },
  {
   "cell_type": "code",
   "execution_count": 38,
   "metadata": {},
   "outputs": [
    {
     "name": "stdout",
     "output_type": "stream",
     "text": [
      "Did the proportion of trips with more than one passenger change dramatically?\n"
     ]
    },
    {
     "data": {
      "text/plain": [
       "np.float64(0.2833900000955953)"
      ]
     },
     "execution_count": 38,
     "metadata": {},
     "output_type": "execute_result"
    }
   ],
   "source": [
    "print('Did the proportion of trips with more than one passenger change dramatically?')\n",
    "df.loc[(df['year'] == 2019) & (df['passenger_count'] > 1), 'passenger_count'].count() / df.loc[(df['year'] == 2019), 'payment_type'].count()"
   ]
  },
  {
   "cell_type": "code",
   "execution_count": 39,
   "metadata": {},
   "outputs": [
    {
     "data": {
      "text/plain": [
       "np.float64(0.2061513222563435)"
      ]
     },
     "execution_count": 39,
     "metadata": {},
     "output_type": "execute_result"
    }
   ],
   "source": [
    "df.loc[(df['year'] == 2020) & (df['passenger_count'] > 1), 'passenger_count'].count() / df.loc[(df['year'] == 2020), 'payment_type'].count()"
   ]
  },
  {
   "cell_type": "code",
   "execution_count": 44,
   "metadata": {},
   "outputs": [
    {
     "name": "stdout",
     "output_type": "stream",
     "text": [
      "Did people use cash (i.e., payment_type of 2) less in 2020 than in 2019?\n",
      "Percentage of cash usage in 2019: 28.71 %\n",
      "Percentage of cash usage in 2020: 32.06 %\n"
     ]
    }
   ],
   "source": [
    "print('Did people use cash (i.e., payment_type of 2) less in 2020 than in 2019?')\n",
    "cash_2019_percentage = df.loc[(df['year'] == 2019) & \n",
    "                              (df['payment_type'] == 2), 'payment_type'].count() / df.loc[df['year'] == 2019, 'payment_type'].count()\n",
    "print(f'Percentage of cash usage in 2019: {round(cash_2019_percentage * 100, 2)} %')\n",
    "cash_2020_percentage = df.loc[(df['year'] == 2020) & \n",
    "                              (df['payment_type'] == 2), 'payment_type'].count() / df.loc[df['year'] == 2020, 'payment_type'].count()\n",
    "print(f'Percentage of cash usage in 2020: {round(cash_2020_percentage * 100, 2)} %')"
   ]
  },
  {
   "cell_type": "markdown",
   "metadata": {},
   "source": [
    "## Exercise 18 • passwd to df\n",
    "Specifically, do the following:\n",
    "\n",
    "1. Create a data frame based on linux-etc-passwd.txt. Notice that this file contains comment lines (starting with #) and blank lines (which you should ignore). The field separator is :.\n",
    "\n",
    "2. Add column names: username, password, userid, groupid, name, homedir, and shell.\n",
    "\n",
    "3. Make the username column the data frame’s index."
   ]
  },
  {
   "cell_type": "code",
   "execution_count": 47,
   "metadata": {},
   "outputs": [
    {
     "data": {
      "text/html": [
       "<div>\n",
       "<style scoped>\n",
       "    .dataframe tbody tr th:only-of-type {\n",
       "        vertical-align: middle;\n",
       "    }\n",
       "\n",
       "    .dataframe tbody tr th {\n",
       "        vertical-align: top;\n",
       "    }\n",
       "\n",
       "    .dataframe thead th {\n",
       "        text-align: right;\n",
       "    }\n",
       "</style>\n",
       "<table border=\"1\" class=\"dataframe\">\n",
       "  <thead>\n",
       "    <tr style=\"text-align: right;\">\n",
       "      <th></th>\n",
       "      <th>username</th>\n",
       "      <th>password</th>\n",
       "      <th>userid</th>\n",
       "      <th>groupid</th>\n",
       "      <th>name</th>\n",
       "      <th>homedir</th>\n",
       "      <th>shell</th>\n",
       "    </tr>\n",
       "  </thead>\n",
       "  <tbody>\n",
       "    <tr>\n",
       "      <th>0</th>\n",
       "      <td>root</td>\n",
       "      <td>x</td>\n",
       "      <td>0</td>\n",
       "      <td>0</td>\n",
       "      <td>root</td>\n",
       "      <td>/root</td>\n",
       "      <td>/bin/bash</td>\n",
       "    </tr>\n",
       "    <tr>\n",
       "      <th>1</th>\n",
       "      <td>daemon</td>\n",
       "      <td>x</td>\n",
       "      <td>1</td>\n",
       "      <td>1</td>\n",
       "      <td>daemon</td>\n",
       "      <td>/usr/sbin</td>\n",
       "      <td>/usr/sbin/nologin</td>\n",
       "    </tr>\n",
       "    <tr>\n",
       "      <th>2</th>\n",
       "      <td>bin</td>\n",
       "      <td>x</td>\n",
       "      <td>2</td>\n",
       "      <td>2</td>\n",
       "      <td>bin</td>\n",
       "      <td>/bin</td>\n",
       "      <td>/usr/sbin/nologin</td>\n",
       "    </tr>\n",
       "  </tbody>\n",
       "</table>\n",
       "</div>"
      ],
      "text/plain": [
       "  username password  userid  groupid    name    homedir              shell\n",
       "0     root        x       0        0    root      /root          /bin/bash\n",
       "1   daemon        x       1        1  daemon  /usr/sbin  /usr/sbin/nologin\n",
       "2      bin        x       2        2     bin       /bin  /usr/sbin/nologin"
      ]
     },
     "execution_count": 47,
     "metadata": {},
     "output_type": "execute_result"
    }
   ],
   "source": [
    "df = pd.read_csv('data/linux-etc-passwd.txt',\n",
    "                 sep=':', comment='#', header=None,\n",
    "                 names=['username', 'password', 'userid', 'groupid', 'name', 'homedir', 'shell'])\n",
    "df.head(3)"
   ]
  },
  {
   "cell_type": "code",
   "execution_count": 49,
   "metadata": {},
   "outputs": [
    {
     "data": {
      "text/html": [
       "<div>\n",
       "<style scoped>\n",
       "    .dataframe tbody tr th:only-of-type {\n",
       "        vertical-align: middle;\n",
       "    }\n",
       "\n",
       "    .dataframe tbody tr th {\n",
       "        vertical-align: top;\n",
       "    }\n",
       "\n",
       "    .dataframe thead th {\n",
       "        text-align: right;\n",
       "    }\n",
       "</style>\n",
       "<table border=\"1\" class=\"dataframe\">\n",
       "  <thead>\n",
       "    <tr style=\"text-align: right;\">\n",
       "      <th></th>\n",
       "      <th>username</th>\n",
       "      <th>userid</th>\n",
       "      <th>name</th>\n",
       "      <th>homedir</th>\n",
       "      <th>shell</th>\n",
       "    </tr>\n",
       "  </thead>\n",
       "  <tbody>\n",
       "    <tr>\n",
       "      <th>0</th>\n",
       "      <td>root</td>\n",
       "      <td>0</td>\n",
       "      <td>root</td>\n",
       "      <td>/root</td>\n",
       "      <td>/bin/bash</td>\n",
       "    </tr>\n",
       "    <tr>\n",
       "      <th>1</th>\n",
       "      <td>daemon</td>\n",
       "      <td>1</td>\n",
       "      <td>daemon</td>\n",
       "      <td>/usr/sbin</td>\n",
       "      <td>/usr/sbin/nologin</td>\n",
       "    </tr>\n",
       "    <tr>\n",
       "      <th>2</th>\n",
       "      <td>bin</td>\n",
       "      <td>2</td>\n",
       "      <td>bin</td>\n",
       "      <td>/bin</td>\n",
       "      <td>/usr/sbin/nologin</td>\n",
       "    </tr>\n",
       "  </tbody>\n",
       "</table>\n",
       "</div>"
      ],
      "text/plain": [
       "  username  userid    name    homedir              shell\n",
       "0     root       0    root      /root          /bin/bash\n",
       "1   daemon       1  daemon  /usr/sbin  /usr/sbin/nologin\n",
       "2      bin       2     bin       /bin  /usr/sbin/nologin"
      ]
     },
     "execution_count": 49,
     "metadata": {},
     "output_type": "execute_result"
    }
   ],
   "source": [
    "# Ignore the password and groupid fields, such that they don't appear in the data frame.\n",
    "df = pd.read_csv('data/linux-etc-passwd.txt', \n",
    "                 sep=':', comment='#', header=None,\n",
    "                 usecols=['username', 'userid', 'name', 'homedir', 'shell'],\n",
    "                names=['username', 'password', 'userid', 'groupid', 'name', 'homedir', 'shell'])\n",
    "df.head(3)"
   ]
  },
  {
   "cell_type": "code",
   "execution_count": 50,
   "metadata": {},
   "outputs": [
    {
     "data": {
      "text/plain": [
       "0             /bin/bash\n",
       "1     /usr/sbin/nologin\n",
       "4             /bin/sync\n",
       "18           /bin/false\n",
       "31              /bin/sh\n",
       "42         /bin/nologin\n",
       "Name: shell, dtype: object"
      ]
     },
     "execution_count": 50,
     "metadata": {},
     "output_type": "execute_result"
    }
   ],
   "source": [
    "# Immediately after logging into a Unix system, a command interpreter, known as a \"shell,\" fires up. What are the different shells in this file?\n",
    "df['shell'].drop_duplicates()"
   ]
  },
  {
   "cell_type": "code",
   "execution_count": null,
   "metadata": {},
   "outputs": [],
   "source": []
  }
 ],
 "metadata": {
  "kernelspec": {
   "display_name": "my-env",
   "language": "python",
   "name": "python3"
  },
  "language_info": {
   "codemirror_mode": {
    "name": "ipython",
    "version": 3
   },
   "file_extension": ".py",
   "mimetype": "text/x-python",
   "name": "python",
   "nbconvert_exporter": "python",
   "pygments_lexer": "ipython3",
   "version": "3.11.5"
  }
 },
 "nbformat": 4,
 "nbformat_minor": 2
}
